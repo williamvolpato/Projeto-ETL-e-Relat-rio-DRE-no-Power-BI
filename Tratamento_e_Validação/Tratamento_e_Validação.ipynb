{
  "nbformat": 4,
  "nbformat_minor": 0,
  "metadata": {
    "colab": {
      "provenance": []
    },
    "kernelspec": {
      "name": "python3",
      "display_name": "Python 3"
    },
    "language_info": {
      "name": "python"
    }
  },
  "cells": [
    {
      "cell_type": "code",
      "execution_count": 1,
      "metadata": {
        "id": "2wx0hbDId7fl"
      },
      "outputs": [],
      "source": [
        "import sqlite3\n",
        "import pandas as pd\n",
        "\n",
        "conn = sqlite3.connect('sqlite_database.db')  # Conecte no banco\n"
      ]
    },
    {
      "cell_type": "code",
      "source": [
        "query = \"SELECT name FROM sqlite_master WHERE type='table';\"\n",
        "tabelas = pd.read_sql_query(query, conn)\n",
        "print(tabelas)\n"
      ],
      "metadata": {
        "colab": {
          "base_uri": "https://localhost:8080/"
        },
        "id": "8F5rxov_eZUl",
        "outputId": "40c7e323-5331-41ed-acda-fdbc2f15967f"
      },
      "execution_count": 2,
      "outputs": [
        {
          "output_type": "stream",
          "name": "stdout",
          "text": [
            "            name\n",
            "0    staging_dre\n",
            "1    dim_unidade\n",
            "2  dim_estrutura\n",
            "3       fato_dre\n"
          ]
        }
      ]
    },
    {
      "cell_type": "code",
      "source": [
        "# 1. Converter MesRef para o formato 'YYYY-MM'\n",
        "import pandas as pd\n",
        "\n",
        "# Atualizar o formato em staging_dre\n",
        "query = \"SELECT *, strftime('%Y-%m', MesRef / 1000, 'unixepoch') AS MesRefFormatado FROM staging_dre;\"\n",
        "staging_dre = pd.read_sql_query(query, conn)\n",
        "\n",
        "# Atualizar o formato em fato_dre\n",
        "query = \"SELECT *, strftime('%Y-%m', MesRef / 1000, 'unixepoch') AS MesRefFormatado FROM fato_dre;\"\n",
        "fato_dre = pd.read_sql_query(query, conn)\n",
        "\n",
        "# Visualizar os resultados\n",
        "print(\"Staging DRE - Datas formatadas:\")\n",
        "print(staging_dre[['MesRef', 'MesRefFormatado']].drop_duplicates())\n",
        "\n",
        "print(\"\\nFato DRE - Datas formatadas:\")\n",
        "print(fato_dre[['MesRef', 'MesRefFormatado']].drop_duplicates())\n"
      ],
      "metadata": {
        "colab": {
          "base_uri": "https://localhost:8080/"
        },
        "id": "7nmiyWm6gfSz",
        "outputId": "141ab7bc-1006-4b80-9839-a6a06979e864"
      },
      "execution_count": 6,
      "outputs": [
        {
          "output_type": "stream",
          "name": "stdout",
          "text": [
            "Staging DRE - Datas formatadas:\n",
            "             MesRef MesRefFormatado\n",
            "0     1677639600000         2023-03\n",
            "1296  1680318000000         2023-04\n",
            "2592  1682910000000         2023-05\n",
            "3888  1685588400000         2023-06\n",
            "\n",
            "Fato DRE - Datas formatadas:\n",
            "          MesRef MesRefFormatado\n",
            "0  1677639600000         2023-03\n",
            "1  1680318000000         2023-04\n",
            "2  1682910000000         2023-05\n",
            "3  1685588400000         2023-06\n"
          ]
        }
      ]
    },
    {
      "cell_type": "code",
      "source": [
        "import re\n",
        "\n",
        "# Extrair códigos das unidades no staging_dre\n",
        "def extrair_codigo(unidade):\n",
        "    if pd.isnull(unidade) or \"Total\" in unidade:\n",
        "        return 0  # Código para Total\n",
        "    match = re.search(r'\\d+$', unidade)  # Capturar o código no final do texto\n",
        "    return int(match.group()) if match else 9999111  # Código padrão para escritório\n",
        "\n",
        "# Aplicar a função\n",
        "staging_dre['CodigoUnidade'] = staging_dre['Unidade'].apply(extrair_codigo)\n",
        "\n",
        "# Comparar com a dim_unidade\n",
        "dim_unidade = pd.read_sql_query(\"SELECT * FROM dim_unidade;\", conn)\n",
        "codigos_dim = dim_unidade['CodigoUnidade'].unique()\n",
        "codigos_staging = staging_dre['CodigoUnidade'].unique()\n",
        "\n",
        "# Verificar códigos faltantes\n",
        "codigos_faltantes = set(codigos_staging) - set(codigos_dim)\n",
        "\n",
        "# Exibir os resultados\n",
        "print(\"Códigos no Staging:\", codigos_staging)\n",
        "print(\"Códigos na Dimensão:\", codigos_dim)\n",
        "print(\"Códigos Faltantes:\", codigos_faltantes)\n",
        "\n",
        "# Mostrar as primeiras linhas para validação\n",
        "print(\"\\nStaging DRE com códigos ajustados:\")\n",
        "print(staging_dre[['Unidade', 'CodigoUnidade']].drop_duplicates())\n"
      ],
      "metadata": {
        "colab": {
          "base_uri": "https://localhost:8080/"
        },
        "id": "1VnJFbPog6Lj",
        "outputId": "8cdd2b1b-28d1-4f70-ab9d-38434e9f9e10"
      },
      "execution_count": 7,
      "outputs": [
        {
          "output_type": "stream",
          "name": "stdout",
          "text": [
            "Códigos no Staging: [9999111   11111   11113   11116   11117]\n",
            "Códigos na Dimensão: [9999111   11111   11112   11113   11114   11115   11116   11117]\n",
            "Códigos Faltantes: set()\n",
            "\n",
            "Staging DRE com códigos ajustados:\n",
            "                       Unidade  CodigoUnidade\n",
            "0         9999111 - ESCRITÓRIO        9999111\n",
            "1            Unidade 1 - 11111          11111\n",
            "2  Unidade 2 - 11112 - Atacado        9999111\n",
            "3            Unidade 3 - 11113          11113\n",
            "4  Unidade 4 - 11114 - Atacado        9999111\n",
            "5  Unidade 5 - 11115 - Atacado        9999111\n",
            "6            Unidade 6 - 11116          11116\n",
            "7            Unidade 7 - 11117          11117\n"
          ]
        }
      ]
    },
    {
      "cell_type": "code",
      "source": [
        "# Correção específica para os códigos mal atribuídos\n",
        "correcoes = {\n",
        "    'Unidade 2 - 11112 - Atacado': 11112,\n",
        "    'Unidade 4 - 11114 - Atacado': 11114,\n",
        "    'Unidade 5 - 11115 - Atacado': 11115\n",
        "}\n",
        "\n",
        "# Aplicar correções diretamente\n",
        "staging_dre['CodigoUnidade'] = staging_dre.apply(\n",
        "    lambda row: correcoes.get(row['Unidade'], row['CodigoUnidade']), axis=1\n",
        ")\n",
        "\n",
        "# Verificar novamente os códigos após a correção\n",
        "codigos_staging_corrigidos = staging_dre['CodigoUnidade'].unique()\n",
        "codigos_faltantes_corrigidos = set(codigos_staging_corrigidos) - set(codigos_dim)\n",
        "\n",
        "# Exibir resultados\n",
        "print(\"Códigos no Staging após correção:\", codigos_staging_corrigidos)\n",
        "print(\"Códigos faltantes após correção:\", codigos_faltantes_corrigidos)\n",
        "\n",
        "# Mostrar as primeiras linhas atualizadas\n",
        "print(\"\\nStaging DRE com códigos corrigidos:\")\n",
        "print(staging_dre[['Unidade', 'CodigoUnidade']].drop_duplicates())\n"
      ],
      "metadata": {
        "colab": {
          "base_uri": "https://localhost:8080/"
        },
        "id": "QspRmBfshGBN",
        "outputId": "ceb23dd2-96a6-4ddd-97a5-9132b53ee6e1"
      },
      "execution_count": 8,
      "outputs": [
        {
          "output_type": "stream",
          "name": "stdout",
          "text": [
            "Códigos no Staging após correção: [9999111   11111   11112   11113   11114   11115   11116   11117]\n",
            "Códigos faltantes após correção: set()\n",
            "\n",
            "Staging DRE com códigos corrigidos:\n",
            "                       Unidade  CodigoUnidade\n",
            "0         9999111 - ESCRITÓRIO        9999111\n",
            "1            Unidade 1 - 11111          11111\n",
            "2  Unidade 2 - 11112 - Atacado          11112\n",
            "3            Unidade 3 - 11113          11113\n",
            "4  Unidade 4 - 11114 - Atacado          11114\n",
            "5  Unidade 5 - 11115 - Atacado          11115\n",
            "6            Unidade 6 - 11116          11116\n",
            "7            Unidade 7 - 11117          11117\n"
          ]
        }
      ]
    },
    {
      "cell_type": "code",
      "source": [
        "# Carregar a tabela dim_estrutura do banco\n",
        "query = \"SELECT * FROM dim_estrutura;\"\n",
        "dim_estrutura = pd.read_sql_query(query, conn)\n",
        "\n",
        "\n",
        "\n"
      ],
      "metadata": {
        "id": "P-1vRZl_hxu1"
      },
      "execution_count": 13,
      "outputs": []
    },
    {
      "cell_type": "code",
      "source": [],
      "metadata": {
        "id": "CirZrNIQh27h"
      },
      "execution_count": null,
      "outputs": []
    },
    {
      "cell_type": "code",
      "source": [
        "# Mesclar staging_dre com dim_estrutura para trazer o IdEstrutura\n",
        "staging_dre = staging_dre.merge(\n",
        "    dim_estrutura[['IdEstrutura', 'LinhaEstrutura']],\n",
        "    on='LinhaEstrutura',\n",
        "    how='left'\n",
        ")\n",
        "\n",
        "# Validar a mesclagem\n",
        "print(staging_dre[['LinhaEstrutura', 'IdEstrutura']].head(10))\n"
      ],
      "metadata": {
        "colab": {
          "base_uri": "https://localhost:8080/"
        },
        "id": "S5hwhb3eh5RL",
        "outputId": "ba13a6ab-78c6-4e8c-dc36-b4ea3910049b"
      },
      "execution_count": 16,
      "outputs": [
        {
          "output_type": "stream",
          "name": "stdout",
          "text": [
            "                  LinhaEstrutura  IdEstrutura\n",
            "0  1 - Receita Operacional Bruta          1.0\n",
            "1  1 - Receita Operacional Bruta          1.0\n",
            "2  1 - Receita Operacional Bruta          1.0\n",
            "3  1 - Receita Operacional Bruta          1.0\n",
            "4  1 - Receita Operacional Bruta          1.0\n",
            "5  1 - Receita Operacional Bruta          1.0\n",
            "6  1 - Receita Operacional Bruta          1.0\n",
            "7  1 - Receita Operacional Bruta          1.0\n",
            "8    1.1 - Vendas de mercadorias          2.0\n",
            "9    1.1 - Vendas de mercadorias          2.0\n"
          ]
        }
      ]
    },
    {
      "cell_type": "code",
      "source": [
        "# Mesclar staging_dre com dim_unidade para adicionar detalhes das unidades\n",
        "staging_dre = staging_dre.merge(\n",
        "    dim_unidade[['CodigoUnidade', 'IdUnidade']],\n",
        "    on='CodigoUnidade',\n",
        "    how='left'\n",
        ")\n",
        "\n",
        "# Validar a mesclagem\n",
        "print(staging_dre[['CodigoUnidade', 'IdUnidade']].drop_duplicates())\n"
      ],
      "metadata": {
        "colab": {
          "base_uri": "https://localhost:8080/"
        },
        "id": "piCSN_3PiHAk",
        "outputId": "11b27d26-5b4c-4537-85ca-a35beff1145b"
      },
      "execution_count": 17,
      "outputs": [
        {
          "output_type": "stream",
          "name": "stdout",
          "text": [
            "   CodigoUnidade  IdUnidade\n",
            "0        9999111          1\n",
            "1          11111          2\n",
            "2          11112          3\n",
            "3          11113          4\n",
            "4          11114          5\n",
            "5          11115          6\n",
            "6          11116          7\n",
            "7          11117          8\n"
          ]
        }
      ]
    },
    {
      "cell_type": "code",
      "source": [
        "# Verificar linhas com NaN em IdEstrutura\n",
        "problemas_estrutura = staging_dre[staging_dre['IdEstrutura'].isnull()]\n",
        "print(problemas_estrutura[['LinhaEstrutura', 'MesRef', 'Unidade']])\n"
      ],
      "metadata": {
        "colab": {
          "base_uri": "https://localhost:8080/"
        },
        "id": "9A-H3FXEiSg-",
        "outputId": "5b88afb1-7fd3-4835-f34a-39582d8d29fc"
      },
      "execution_count": 19,
      "outputs": [
        {
          "output_type": "stream",
          "name": "stdout",
          "text": [
            "                                         LinhaEstrutura         MesRef  \\\n",
            "96              4.1 - Custo da Mercadoria Vendida - CMV  1677639600000   \n",
            "97              4.1 - Custo da Mercadoria Vendida - CMV  1677639600000   \n",
            "98              4.1 - Custo da Mercadoria Vendida - CMV  1677639600000   \n",
            "99              4.1 - Custo da Mercadoria Vendida - CMV  1677639600000   \n",
            "100             4.1 - Custo da Mercadoria Vendida - CMV  1677639600000   \n",
            "...                                                 ...            ...   \n",
            "5267  14 - (+/-) Outras Receitas e Despesas não Oper...  1685588400000   \n",
            "5268  14 - (+/-) Outras Receitas e Despesas não Oper...  1685588400000   \n",
            "5269  14 - (+/-) Outras Receitas e Despesas não Oper...  1685588400000   \n",
            "5270  14 - (+/-) Outras Receitas e Despesas não Oper...  1685588400000   \n",
            "5271  14 - (+/-) Outras Receitas e Despesas não Oper...  1685588400000   \n",
            "\n",
            "                          Unidade  \n",
            "96           9999111 - ESCRITÓRIO  \n",
            "97              Unidade 1 - 11111  \n",
            "98    Unidade 2 - 11112 - Atacado  \n",
            "99              Unidade 3 - 11113  \n",
            "100   Unidade 4 - 11114 - Atacado  \n",
            "...                           ...  \n",
            "5267            Unidade 3 - 11113  \n",
            "5268  Unidade 4 - 11114 - Atacado  \n",
            "5269  Unidade 5 - 11115 - Atacado  \n",
            "5270            Unidade 6 - 11116  \n",
            "5271            Unidade 7 - 11117  \n",
            "\n",
            "[224 rows x 3 columns]\n"
          ]
        }
      ]
    },
    {
      "cell_type": "code",
      "source": [
        "# Encontrar diferenças entre os dois datasets\n",
        "estruturas_staging = staging_dre['LinhaEstrutura'].unique()\n",
        "estruturas_dim = dim_estrutura['LinhaEstrutura'].unique()\n",
        "\n",
        "# Mostrar as diferenças\n",
        "diferencas = set(estruturas_staging) - set(estruturas_dim)\n",
        "print(diferencas)\n"
      ],
      "metadata": {
        "colab": {
          "base_uri": "https://localhost:8080/"
        },
        "id": "Re1P4Fsuiuqk",
        "outputId": "c83255ba-d096-4112-edf7-7911b361b55d"
      },
      "execution_count": 20,
      "outputs": [
        {
          "output_type": "stream",
          "name": "stdout",
          "text": [
            "{'11 - Resultado Operacional -Ebitda', '8.6.5 - Multa - Veículos', '14 - (+/-) Outras Receitas e Despesas não Operacionais', '4.1 - Custo da Mercadoria Vendida - CMV', '8.8.2.1 - Doações - Outras entidades', '4.2 - Custo dos Serviços Prestados - CSP', '12 - (+/-) Resultado Financeiro Líquido'}\n"
          ]
        }
      ]
    },
    {
      "cell_type": "code",
      "source": [
        "# Adicionar nova estrutura faltante\n",
        "nova_estrutura = pd.DataFrame([{\n",
        "    'IdEstrutura': 200,  # Novo ID\n",
        "    'LinhaEstrutura': '11 - Resultado Operacional -Ebitda',\n",
        "    'LinhaRelatorio': 'Resultado Operacional - Ebitda',\n",
        "    'TipoLinha': 'Grupo',\n",
        "    'GrupoDaConta': '(=) Resultado Operacional - Ebitda',\n",
        "    'TipoEstrutura': 'Resultado',\n",
        "    'Int1': 11,\n",
        "    'Int2': None,\n",
        "    'Int3': None,\n",
        "    'Int4': None,\n",
        "    'Subgrupo': None,\n",
        "    'Subgrupo2': None,\n",
        "    'IdEstrutura_sukey_pai': None,\n",
        "    'SomaDe': None\n",
        "}])\n",
        "\n",
        "# Concatenar com a dimensão existente\n",
        "dim_estrutura = pd.concat([dim_estrutura, nova_estrutura], ignore_index=True)\n",
        "\n",
        "# Validar inclusão\n",
        "print(dim_estrutura[dim_estrutura['LinhaEstrutura'] == '11 - Resultado Operacional -Ebitda'])\n"
      ],
      "metadata": {
        "colab": {
          "base_uri": "https://localhost:8080/"
        },
        "id": "JYtwKTi8i9CN",
        "outputId": "13a4a5ba-aa2e-42ed-bef9-c94d756b4ff0"
      },
      "execution_count": 21,
      "outputs": [
        {
          "output_type": "stream",
          "name": "stdout",
          "text": [
            "     IdEstrutura IdEstrutura_sukey                      LinhaEstrutura  \\\n",
            "163          200               NaN  11 - Resultado Operacional -Ebitda   \n",
            "\n",
            "                     LinhaRelatorio TipoLinha  \\\n",
            "163  Resultado Operacional - Ebitda     Grupo   \n",
            "\n",
            "                           GrupoDaConta TipoEstrutura  Int1  Int2  Int3  Int4  \\\n",
            "163  (=) Resultado Operacional - Ebitda     Resultado    11   NaN   NaN   NaN   \n",
            "\n",
            "    Subgrupo Subgrupo2 IdEstrutura_sukey_pai  SomaDe  \n",
            "163     None      None                  None     NaN  \n"
          ]
        },
        {
          "output_type": "stream",
          "name": "stderr",
          "text": [
            "<ipython-input-21-4e1bf45ac4ce>:20: FutureWarning: The behavior of DataFrame concatenation with empty or all-NA entries is deprecated. In a future version, this will no longer exclude empty or all-NA columns when determining the result dtypes. To retain the old behavior, exclude the relevant entries before the concat operation.\n",
            "  dim_estrutura = pd.concat([dim_estrutura, nova_estrutura], ignore_index=True)\n"
          ]
        }
      ]
    },
    {
      "cell_type": "code",
      "source": [
        "# Mesclagem corrigida evitando duplicatas\n",
        "staging_dre = staging_dre.drop(columns=['IdEstrutura'], errors='ignore')  # Remove a coluna duplicada antes\n",
        "staging_dre = staging_dre.merge(\n",
        "    dim_estrutura[['IdEstrutura', 'LinhaEstrutura']],\n",
        "    on='LinhaEstrutura',\n",
        "    how='left'\n",
        ")\n",
        "\n",
        "# Validar resultado\n",
        "faltantes_pos_correcao = staging_dre[staging_dre['IdEstrutura'].isnull()]\n",
        "print(faltantes_pos_correcao['LinhaEstrutura'].unique())\n"
      ],
      "metadata": {
        "colab": {
          "base_uri": "https://localhost:8080/"
        },
        "id": "OsraWEJ3jCOE",
        "outputId": "342eea2e-aa5b-4224-f065-0f18347bafbb"
      },
      "execution_count": 23,
      "outputs": [
        {
          "output_type": "stream",
          "name": "stdout",
          "text": [
            "['4.1 - Custo da Mercadoria Vendida - CMV'\n",
            " '4.2 - Custo dos Serviços Prestados - CSP' '8.6.5 - Multa - Veículos'\n",
            " '8.8.2.1 - Doações - Outras entidades'\n",
            " '12 - (+/-) Resultado Financeiro Líquido'\n",
            " '14 - (+/-) Outras Receitas e Despesas não Operacionais']\n"
          ]
        }
      ]
    },
    {
      "cell_type": "code",
      "source": [
        "# Adicionar estrutura para '4.1 - Custo da Mercadoria Vendida - CMV'\n",
        "nova_estrutura = pd.DataFrame([{\n",
        "    'IdEstrutura': 201,\n",
        "    'IdEstrutura_sukey': '4.1',\n",
        "    'LinhaEstrutura': '4.1 - Custo da Mercadoria Vendida - CMV',\n",
        "    'LinhaRelatorio': 'Custo da Mercadoria Vendida',\n",
        "    'TipoLinha': 'Conta',\n",
        "    'GrupoDaConta': '(-) Custo das Vendas',\n",
        "    'TipoEstrutura': 'Despesa',\n",
        "    'Int1': 4,\n",
        "    'Int2': 1,\n",
        "    'Int3': None,\n",
        "    'Int4': None,\n",
        "    'Subgrupo': '4.1 - CMV',\n",
        "    'Subgrupo2': None,\n",
        "    'IdEstrutura_sukey_pai': '4',\n",
        "    'SomaDe': None\n",
        "}])\n",
        "\n",
        "# Concatenar no dim_estrutura\n",
        "dim_estrutura = pd.concat([dim_estrutura, nova_estrutura], ignore_index=True)\n",
        "\n",
        "# Reexecutar a mesclagem\n",
        "staging_dre = staging_dre.drop(columns=['IdEstrutura'], errors='ignore')  # Remove duplicatas\n",
        "staging_dre = staging_dre.merge(\n",
        "    dim_estrutura[['IdEstrutura', 'LinhaEstrutura']],\n",
        "    on='LinhaEstrutura',\n",
        "    how='left'\n",
        ")\n",
        "\n",
        "# Validar se ainda existem faltantes\n",
        "faltantes_pos_1 = staging_dre[staging_dre['IdEstrutura'].isnull()]\n",
        "print(faltantes_pos_1['LinhaEstrutura'].unique())\n"
      ],
      "metadata": {
        "colab": {
          "base_uri": "https://localhost:8080/"
        },
        "id": "5pynKX7UjfBV",
        "outputId": "ff4f50e4-a9a8-4c6a-98d9-09c43b388569"
      },
      "execution_count": 24,
      "outputs": [
        {
          "output_type": "stream",
          "name": "stdout",
          "text": [
            "['4.2 - Custo dos Serviços Prestados - CSP' '8.6.5 - Multa - Veículos'\n",
            " '8.8.2.1 - Doações - Outras entidades'\n",
            " '12 - (+/-) Resultado Financeiro Líquido'\n",
            " '14 - (+/-) Outras Receitas e Despesas não Operacionais']\n"
          ]
        },
        {
          "output_type": "stream",
          "name": "stderr",
          "text": [
            "<ipython-input-24-500d96444bb8>:21: FutureWarning: The behavior of DataFrame concatenation with empty or all-NA entries is deprecated. In a future version, this will no longer exclude empty or all-NA columns when determining the result dtypes. To retain the old behavior, exclude the relevant entries before the concat operation.\n",
            "  dim_estrutura = pd.concat([dim_estrutura, nova_estrutura], ignore_index=True)\n"
          ]
        }
      ]
    },
    {
      "cell_type": "code",
      "source": [
        "# Adicionar estrutura para '4.2 - Custo dos Serviços Prestados - CSP'\n",
        "nova_estrutura = pd.DataFrame([{\n",
        "    'IdEstrutura': 202,\n",
        "    'IdEstrutura_sukey': '4.2',\n",
        "    'LinhaEstrutura': '4.2 - Custo dos Serviços Prestados - CSP',\n",
        "    'LinhaRelatorio': 'Custo dos Serviços Prestados',\n",
        "    'TipoLinha': 'Conta',\n",
        "    'GrupoDaConta': '(-) Custo das Vendas',\n",
        "    'TipoEstrutura': 'Despesa',\n",
        "    'Int1': 4,\n",
        "    'Int2': 2,\n",
        "    'Int3': None,\n",
        "    'Int4': None,\n",
        "    'Subgrupo': '4.2 - CSP',\n",
        "    'Subgrupo2': None,\n",
        "    'IdEstrutura_sukey_pai': '4',\n",
        "    'SomaDe': None\n",
        "}])\n",
        "\n",
        "# Concatenar no dim_estrutura\n",
        "dim_estrutura = pd.concat([dim_estrutura, nova_estrutura], ignore_index=True)\n",
        "\n",
        "# Reexecutar a mesclagem\n",
        "staging_dre = staging_dre.drop(columns=['IdEstrutura'], errors='ignore')  # Remove duplicatas\n",
        "staging_dre = staging_dre.merge(\n",
        "    dim_estrutura[['IdEstrutura', 'LinhaEstrutura']],\n",
        "    on='LinhaEstrutura',\n",
        "    how='left'\n",
        ")\n",
        "\n",
        "# Validar se ainda existem faltantes\n",
        "faltantes_pos_2 = staging_dre[staging_dre['IdEstrutura'].isnull()]\n",
        "print(faltantes_pos_2['LinhaEstrutura'].unique())\n"
      ],
      "metadata": {
        "colab": {
          "base_uri": "https://localhost:8080/"
        },
        "id": "WrjtRJvWjqBo",
        "outputId": "cdc48bae-abdf-41e6-f99a-d8976ff24244"
      },
      "execution_count": 25,
      "outputs": [
        {
          "output_type": "stream",
          "name": "stdout",
          "text": [
            "['8.6.5 - Multa - Veículos' '8.8.2.1 - Doações - Outras entidades'\n",
            " '12 - (+/-) Resultado Financeiro Líquido'\n",
            " '14 - (+/-) Outras Receitas e Despesas não Operacionais']\n"
          ]
        },
        {
          "output_type": "stream",
          "name": "stderr",
          "text": [
            "<ipython-input-25-5b527bc16751>:21: FutureWarning: The behavior of DataFrame concatenation with empty or all-NA entries is deprecated. In a future version, this will no longer exclude empty or all-NA columns when determining the result dtypes. To retain the old behavior, exclude the relevant entries before the concat operation.\n",
            "  dim_estrutura = pd.concat([dim_estrutura, nova_estrutura], ignore_index=True)\n"
          ]
        }
      ]
    },
    {
      "cell_type": "code",
      "source": [
        "# Adicionar estrutura para '8.6.5 - Multa - Veículos'\n",
        "nova_estrutura = pd.DataFrame([{\n",
        "    'IdEstrutura': 865,\n",
        "    'IdEstrutura_sukey': '8.6.5',\n",
        "    'LinhaEstrutura': '8.6.5 - Multa - Veículos',\n",
        "    'LinhaRelatorio': 'Multa - Veículos',\n",
        "    'TipoLinha': 'Conta',\n",
        "    'GrupoDaConta': '(-) Despesas Operacionais',\n",
        "    'TipoEstrutura': 'Despesa',\n",
        "    'Int1': 8,\n",
        "    'Int2': 6,\n",
        "    'Int3': 5,\n",
        "    'Int4': None,\n",
        "    'Subgrupo': '8.6 - Despesas Gerais',\n",
        "    'Subgrupo2': '8.6.5 - Multa - Veículos',\n",
        "    'IdEstrutura_sukey_pai': '8.6',\n",
        "    'SomaDe': None\n",
        "}])\n",
        "\n",
        "# Concatenar no dim_estrutura\n",
        "dim_estrutura = pd.concat([dim_estrutura, nova_estrutura], ignore_index=True)\n",
        "\n",
        "# Reexecutar a mesclagem\n",
        "staging_dre = staging_dre.drop(columns=['IdEstrutura'], errors='ignore')  # Remove duplicatas\n",
        "staging_dre = staging_dre.merge(\n",
        "    dim_estrutura[['IdEstrutura', 'LinhaEstrutura']],\n",
        "    on='LinhaEstrutura',\n",
        "    how='left'\n",
        ")\n",
        "\n",
        "# Validar se ainda existem faltantes\n",
        "faltantes_pos_3 = staging_dre[staging_dre['IdEstrutura'].isnull()]\n",
        "print(faltantes_pos_3['LinhaEstrutura'].unique())\n"
      ],
      "metadata": {
        "colab": {
          "base_uri": "https://localhost:8080/"
        },
        "id": "aFeT7lBvjzc0",
        "outputId": "5aebdf6c-fefc-4e80-b0db-dc16d2575b87"
      },
      "execution_count": 26,
      "outputs": [
        {
          "output_type": "stream",
          "name": "stdout",
          "text": [
            "['8.8.2.1 - Doações - Outras entidades'\n",
            " '12 - (+/-) Resultado Financeiro Líquido'\n",
            " '14 - (+/-) Outras Receitas e Despesas não Operacionais']\n"
          ]
        },
        {
          "output_type": "stream",
          "name": "stderr",
          "text": [
            "<ipython-input-26-9d52c4d83d3d>:21: FutureWarning: The behavior of DataFrame concatenation with empty or all-NA entries is deprecated. In a future version, this will no longer exclude empty or all-NA columns when determining the result dtypes. To retain the old behavior, exclude the relevant entries before the concat operation.\n",
            "  dim_estrutura = pd.concat([dim_estrutura, nova_estrutura], ignore_index=True)\n"
          ]
        }
      ]
    },
    {
      "cell_type": "code",
      "source": [
        "# Adicionar estrutura para '8.8.2.1 - Doações - Outras entidades'\n",
        "nova_estrutura = pd.DataFrame([{\n",
        "    'IdEstrutura': 8821,\n",
        "    'IdEstrutura_sukey': '8.8.2.1',\n",
        "    'LinhaEstrutura': '8.8.2.1 - Doações - Outras entidades',\n",
        "    'LinhaRelatorio': 'Doações - Outras entidades',\n",
        "    'TipoLinha': 'Conta',\n",
        "    'GrupoDaConta': '(-) Despesas Operacionais',\n",
        "    'TipoEstrutura': 'Despesa',\n",
        "    'Int1': 8,\n",
        "    'Int2': 8,\n",
        "    'Int3': 2,\n",
        "    'Int4': 1,\n",
        "    'Subgrupo': '8.8 - Doações',\n",
        "    'Subgrupo2': '8.8.2.1 - Doações - Outras entidades',\n",
        "    'IdEstrutura_sukey_pai': '8.8.2',\n",
        "    'SomaDe': None\n",
        "}])\n",
        "\n",
        "# Concatenar no dim_estrutura\n",
        "dim_estrutura = pd.concat([dim_estrutura, nova_estrutura], ignore_index=True)\n",
        "\n",
        "# Reexecutar a mesclagem\n",
        "staging_dre = staging_dre.drop(columns=['IdEstrutura'], errors='ignore')  # Remove duplicatas\n",
        "staging_dre = staging_dre.merge(\n",
        "    dim_estrutura[['IdEstrutura', 'LinhaEstrutura']],\n",
        "    on='LinhaEstrutura',\n",
        "    how='left'\n",
        ")\n",
        "\n",
        "# Validar se ainda existem faltantes\n",
        "faltantes_pos_4 = staging_dre[staging_dre['IdEstrutura'].isnull()]\n",
        "print(faltantes_pos_4['LinhaEstrutura'].unique())\n"
      ],
      "metadata": {
        "colab": {
          "base_uri": "https://localhost:8080/"
        },
        "id": "NOlYqmZ2kOnL",
        "outputId": "f63c2139-c86a-48d1-c34e-1223dc5b0542"
      },
      "execution_count": 27,
      "outputs": [
        {
          "output_type": "stream",
          "name": "stdout",
          "text": [
            "['12 - (+/-) Resultado Financeiro Líquido'\n",
            " '14 - (+/-) Outras Receitas e Despesas não Operacionais']\n"
          ]
        },
        {
          "output_type": "stream",
          "name": "stderr",
          "text": [
            "<ipython-input-27-f9ad232987a3>:21: FutureWarning: The behavior of DataFrame concatenation with empty or all-NA entries is deprecated. In a future version, this will no longer exclude empty or all-NA columns when determining the result dtypes. To retain the old behavior, exclude the relevant entries before the concat operation.\n",
            "  dim_estrutura = pd.concat([dim_estrutura, nova_estrutura], ignore_index=True)\n"
          ]
        }
      ]
    },
    {
      "cell_type": "code",
      "source": [
        "# Adicionar estrutura para '12 - (+/-) Resultado Financeiro Líquido'\n",
        "nova_estrutura = pd.DataFrame([{\n",
        "    'IdEstrutura': 1200,\n",
        "    'IdEstrutura_sukey': '12',\n",
        "    'LinhaEstrutura': '12 - (+/-) Resultado Financeiro Líquido',\n",
        "    'LinhaRelatorio': 'Resultado Financeiro Líquido',\n",
        "    'TipoLinha': 'Grupo',\n",
        "    'GrupoDaConta': '(+/-) Resultado Financeiro Líquido',\n",
        "    'TipoEstrutura': 'Resultado',\n",
        "    'Int1': 12,\n",
        "    'Int2': None,\n",
        "    'Int3': None,\n",
        "    'Int4': None,\n",
        "    'Subgrupo': None,\n",
        "    'Subgrupo2': None,\n",
        "    'IdEstrutura_sukey_pai': None,\n",
        "    'SomaDe': None\n",
        "}])\n",
        "\n",
        "# Concatenar no dim_estrutura\n",
        "dim_estrutura = pd.concat([dim_estrutura, nova_estrutura], ignore_index=True)\n",
        "\n",
        "# Reexecutar a mesclagem\n",
        "staging_dre = staging_dre.drop(columns=['IdEstrutura'], errors='ignore')  # Remove duplicatas\n",
        "staging_dre = staging_dre.merge(\n",
        "    dim_estrutura[['IdEstrutura', 'LinhaEstrutura']],\n",
        "    on='LinhaEstrutura',\n",
        "    how='left'\n",
        ")\n",
        "\n",
        "# Validar se ainda existem faltantes\n",
        "faltantes_pos_5 = staging_dre[staging_dre['IdEstrutura'].isnull()]\n",
        "print(faltantes_pos_5['LinhaEstrutura'].unique())\n"
      ],
      "metadata": {
        "colab": {
          "base_uri": "https://localhost:8080/"
        },
        "id": "YMccXgwNkXfE",
        "outputId": "07b2560e-7eaa-49df-a257-4462f5bc36e8"
      },
      "execution_count": 28,
      "outputs": [
        {
          "output_type": "stream",
          "name": "stdout",
          "text": [
            "['14 - (+/-) Outras Receitas e Despesas não Operacionais']\n"
          ]
        },
        {
          "output_type": "stream",
          "name": "stderr",
          "text": [
            "<ipython-input-28-a10536999a2c>:21: FutureWarning: The behavior of DataFrame concatenation with empty or all-NA entries is deprecated. In a future version, this will no longer exclude empty or all-NA columns when determining the result dtypes. To retain the old behavior, exclude the relevant entries before the concat operation.\n",
            "  dim_estrutura = pd.concat([dim_estrutura, nova_estrutura], ignore_index=True)\n"
          ]
        }
      ]
    },
    {
      "cell_type": "code",
      "source": [
        "# Adicionar estrutura para '14 - (+/-) Outras Receitas e Despesas não Operacionais'\n",
        "nova_estrutura = pd.DataFrame([{\n",
        "    'IdEstrutura': 1400,\n",
        "    'IdEstrutura_sukey': '14',\n",
        "    'LinhaEstrutura': '14 - (+/-) Outras Receitas e Despesas não Operacionais',\n",
        "    'LinhaRelatorio': 'Outras Receitas e Despesas não Operacionais',\n",
        "    'TipoLinha': 'Grupo',\n",
        "    'GrupoDaConta': '(+/-) Outras Receitas e Despesas não Operacionais',\n",
        "    'TipoEstrutura': 'Resultado',\n",
        "    'Int1': 14,\n",
        "    'Int2': None,\n",
        "    'Int3': None,\n",
        "    'Int4': None,\n",
        "    'Subgrupo': None,\n",
        "    'Subgrupo2': None,\n",
        "    'IdEstrutura_sukey_pai': None,\n",
        "    'SomaDe': None\n",
        "}])\n",
        "\n",
        "# Concatenar no dim_estrutura\n",
        "dim_estrutura = pd.concat([dim_estrutura, nova_estrutura], ignore_index=True)\n",
        "\n",
        "# Reexecutar a mesclagem\n",
        "staging_dre = staging_dre.drop(columns=['IdEstrutura'], errors='ignore')  # Remove duplicatas\n",
        "staging_dre = staging_dre.merge(\n",
        "    dim_estrutura[['IdEstrutura', 'LinhaEstrutura']],\n",
        "    on='LinhaEstrutura',\n",
        "    how='left'\n",
        ")\n",
        "\n",
        "# Validar se ainda existem faltantes\n",
        "faltantes_pos_6 = staging_dre[staging_dre['IdEstrutura'].isnull()]\n",
        "print(faltantes_pos_6['LinhaEstrutura'].unique())\n"
      ],
      "metadata": {
        "colab": {
          "base_uri": "https://localhost:8080/"
        },
        "id": "NI0efmS7kfgr",
        "outputId": "24db22f9-0fa3-4acc-ba6f-e6657cb85edf"
      },
      "execution_count": 29,
      "outputs": [
        {
          "output_type": "stream",
          "name": "stdout",
          "text": [
            "[]\n"
          ]
        },
        {
          "output_type": "stream",
          "name": "stderr",
          "text": [
            "<ipython-input-29-25fcded853a3>:21: FutureWarning: The behavior of DataFrame concatenation with empty or all-NA entries is deprecated. In a future version, this will no longer exclude empty or all-NA columns when determining the result dtypes. To retain the old behavior, exclude the relevant entries before the concat operation.\n",
            "  dim_estrutura = pd.concat([dim_estrutura, nova_estrutura], ignore_index=True)\n"
          ]
        }
      ]
    },
    {
      "cell_type": "code",
      "source": [
        "import numpy as np\n",
        "\n",
        "# 1. Criar a tabela fato_dre_final consolidada\n",
        "fato_dre_final = staging_dre[['IdEstrutura', 'CodigoUnidade', 'MesRef', 'Valor']].copy()\n",
        "\n",
        "# 2. Renomear colunas para manter consistência\n",
        "fato_dre_final.rename(columns={'CodigoUnidade': 'IdUnidade'}, inplace=True)\n",
        "\n",
        "# 3. Corrigir valores nulos\n",
        "fato_dre_final['IdEstrutura'] = fato_dre_final['IdEstrutura'].fillna(0).astype(int)\n",
        "fato_dre_final['IdUnidade'] = fato_dre_final['IdUnidade'].fillna(0).astype(int)\n",
        "fato_dre_final['MesRef'] = pd.to_datetime(fato_dre_final['MesRef'], unit='ms').dt.strftime('%Y-%m')\n",
        "fato_dre_final['Valor'] = fato_dre_final['Valor'].fillna(0).astype(float)\n",
        "\n",
        "# 4. Validar a estrutura consolidada\n",
        "print(fato_dre_final.head(10))\n",
        "print(fato_dre_final.dtypes)\n",
        "print(fato_dre_final.isnull().sum())\n"
      ],
      "metadata": {
        "colab": {
          "base_uri": "https://localhost:8080/"
        },
        "id": "knngO_WYlsyF",
        "outputId": "0bb997c4-1565-41cb-e215-ab829c612337"
      },
      "execution_count": 31,
      "outputs": [
        {
          "output_type": "stream",
          "name": "stdout",
          "text": [
            "   IdEstrutura  IdUnidade   MesRef       Valor\n",
            "0            1    9999111  2023-03        0.00\n",
            "1            1      11111  2023-03    63205.51\n",
            "2            1      11112  2023-03   125431.88\n",
            "3            1      11113  2023-03    60499.02\n",
            "4            1      11114  2023-03   185317.24\n",
            "5            1      11115  2023-03   297285.23\n",
            "6            1      11116  2023-03   112564.40\n",
            "7            1      11117  2023-03  1480406.53\n",
            "8            2    9999111  2023-03        0.00\n",
            "9            2      11111  2023-03    63205.51\n",
            "IdEstrutura      int64\n",
            "IdUnidade        int64\n",
            "MesRef          object\n",
            "Valor          float64\n",
            "dtype: object\n",
            "IdEstrutura    0\n",
            "IdUnidade      0\n",
            "MesRef         0\n",
            "Valor          0\n",
            "dtype: int64\n"
          ]
        }
      ]
    },
    {
      "cell_type": "code",
      "source": [
        "import pandas as pd\n",
        "\n",
        "# Caminhos corrigidos para os arquivos\n",
        "dre_maio = pd.read_excel('/content/DRE_Real_05-2023.xlsx')\n",
        "dre_junho = pd.read_excel('/content/DRE_Real_06-2023.xlsx')\n",
        "\n",
        "# Exibir as primeiras linhas para validação\n",
        "print(\"Maio 2023:\")\n",
        "print(dre_maio.head())\n",
        "\n",
        "print(\"\\nJunho 2023:\")\n",
        "print(dre_junho.head())\n"
      ],
      "metadata": {
        "colab": {
          "base_uri": "https://localhost:8080/"
        },
        "id": "LPIlzUmyl85f",
        "outputId": "076d94ef-22c3-4df0-cc66-a44a3ee5cc47"
      },
      "execution_count": 34,
      "outputs": [
        {
          "output_type": "stream",
          "name": "stdout",
          "text": [
            "Maio 2023:\n",
            "                                        Nome  9999111 - ESCRITÓRIO  \\\n",
            "0              1 - Receita Operacional Bruta                   0.0   \n",
            "1                1.1 - Vendas de mercadorias                   0.0   \n",
            "2                1.2 - Prestação de Serviços                   0.0   \n",
            "3  2 - Deduções da Receita Operacional Bruta                   0.0   \n",
            "4     2.1 - Impostos Incidentes sobre Vendas                   0.0   \n",
            "\n",
            "   Unidade 1 - 11111  Unidade 2 - 11112 - Atacado  Unidade 3 - 11113  \\\n",
            "0           85027.69                    192090.14           96097.13   \n",
            "1           85027.69                    192090.14           96097.13   \n",
            "2               0.00                         0.00               0.00   \n",
            "3             -92.13                      -106.26            -251.64   \n",
            "4             -92.13                      -106.26            -251.64   \n",
            "\n",
            "   Unidade 4 - 11114 - Atacado  Unidade 5 - 11115 - Atacado  \\\n",
            "0                    231129.26                    449435.86   \n",
            "1                    231129.26                    449435.86   \n",
            "2                         0.00                         0.00   \n",
            "3                      -320.52                       -52.20   \n",
            "4                      -320.52                       -52.20   \n",
            "\n",
            "   Unidade 6 - 11116  Unidade 7 - 11117       Total  \n",
            "0          155409.29         1926324.47  3135513.84  \n",
            "1          155409.29         1926324.47  3135513.84  \n",
            "2               0.00               0.00        0.00  \n",
            "3            -103.47            -938.92    -1865.14  \n",
            "4            -103.47            -938.92    -1865.14  \n",
            "\n",
            "Junho 2023:\n",
            "                                        Nome  9999111 - ESCRITÓRIO  \\\n",
            "0              1 - Receita Operacional Bruta                   0.0   \n",
            "1                1.1 - Vendas de mercadorias                   0.0   \n",
            "2                1.2 - Prestação de Serviços                   0.0   \n",
            "3  2 - Deduções da Receita Operacional Bruta                   0.0   \n",
            "4     2.1 - Impostos Incidentes sobre Vendas                   0.0   \n",
            "\n",
            "   Unidade 1 - 11111  Unidade 2 - 11112 - Atacado  Unidade 3 - 11113  \\\n",
            "0           63309.12                    172339.14           56639.69   \n",
            "1           63309.12                    172339.14           56639.69   \n",
            "2               0.00                         0.00               0.00   \n",
            "3             -90.65                      -104.57            -106.18   \n",
            "4             -90.65                      -104.57            -106.18   \n",
            "\n",
            "   Unidade 4 - 11114 - Atacado  Unidade 5 - 11115 - Atacado  \\\n",
            "0                    207178.66                    333403.66   \n",
            "1                    207178.66                    333403.66   \n",
            "2                         0.00                         0.00   \n",
            "3                      -106.25                      -224.65   \n",
            "4                      -106.25                      -224.65   \n",
            "\n",
            "   Unidade 6 - 11116  Unidade 7 - 11117       Total  \n",
            "0          122479.65         1442551.68  2397901.60  \n",
            "1          122479.65         1442551.68  2397901.60  \n",
            "2               0.00               0.00        0.00  \n",
            "3            -145.96            -703.05    -1481.31  \n",
            "4            -145.96            -703.05    -1481.31  \n"
          ]
        }
      ]
    },
    {
      "cell_type": "code",
      "source": [
        "import pandas as pd\n",
        "\n",
        "# Carregar os arquivos de DRE\n",
        "dre_marco = pd.read_excel('/content/DRE_Real_03-2023.xlsx')\n",
        "dre_abril = pd.read_excel('/content/DRE_Real_04-2023.xlsx')\n",
        "dre_maio = pd.read_excel('/content/DRE_Real_05-2023.xlsx')\n",
        "dre_junho = pd.read_excel('/content/DRE_Real_06-2023.xlsx')\n",
        "\n",
        "# Função para processar cada mês\n",
        "def processar_dre(df, mes_ref):\n",
        "    df_melted = df.melt(\n",
        "        id_vars=['Nome'],\n",
        "        var_name='Unidade',\n",
        "        value_name='Valor'\n",
        "    )\n",
        "    df_melted['MesRef'] = mes_ref\n",
        "    return df_melted\n",
        "\n",
        "# Processar os meses individualmente\n",
        "dre_marco_melted = processar_dre(dre_marco, '2023-03')\n",
        "dre_abril_melted = processar_dre(dre_abril, '2023-04')\n",
        "dre_maio_melted = processar_dre(dre_maio, '2023-05')\n",
        "dre_junho_melted = processar_dre(dre_junho, '2023-06')\n",
        "\n",
        "# Concatenar todos os meses\n",
        "dre_totais = pd.concat([dre_marco_melted, dre_abril_melted, dre_maio_melted, dre_junho_melted], ignore_index=True)\n",
        "\n",
        "# Criar códigos de unidade\n",
        "dre_totais['CodigoUnidade'] = dre_totais['Unidade'].str.extract('(\\d+)$')\n",
        "dre_totais['CodigoUnidade'] = dre_totais['CodigoUnidade'].fillna(0).astype(int)\n",
        "\n",
        "# Exibir resultado\n",
        "print(dre_totais.head(10))\n"
      ],
      "metadata": {
        "colab": {
          "base_uri": "https://localhost:8080/"
        },
        "id": "Vf6RuMa4m6to",
        "outputId": "51741788-4b5a-46a7-b576-ad5a9317d9db"
      },
      "execution_count": 36,
      "outputs": [
        {
          "output_type": "stream",
          "name": "stdout",
          "text": [
            "                                        Nome               Unidade  Valor  \\\n",
            "0              1 - Receita Operacional Bruta  9999111 - ESCRITÓRIO    0.0   \n",
            "1                1.1 - Vendas de mercadorias  9999111 - ESCRITÓRIO    0.0   \n",
            "2                1.2 - Prestação de Serviços  9999111 - ESCRITÓRIO    0.0   \n",
            "3  2 - Deduções da Receita Operacional Bruta  9999111 - ESCRITÓRIO    0.0   \n",
            "4     2.1 - Impostos Incidentes sobre Vendas  9999111 - ESCRITÓRIO    0.0   \n",
            "5         2.1.1 - COFINS sobre Receita Bruta  9999111 - ESCRITÓRIO    0.0   \n",
            "6            2.1.2 - PIS sobre Receita Bruta  9999111 - ESCRITÓRIO    0.0   \n",
            "7           2.1.3 - ICMS sobre Receita Bruta  9999111 - ESCRITÓRIO    0.0   \n",
            "8                   2.1.4 - Simples Nacional  9999111 - ESCRITÓRIO    0.0   \n",
            "9                 2.2 - Devoluções de Vendas  9999111 - ESCRITÓRIO    0.0   \n",
            "\n",
            "    MesRef  CodigoUnidade  \n",
            "0  2023-03              0  \n",
            "1  2023-03              0  \n",
            "2  2023-03              0  \n",
            "3  2023-03              0  \n",
            "4  2023-03              0  \n",
            "5  2023-03              0  \n",
            "6  2023-03              0  \n",
            "7  2023-03              0  \n",
            "8  2023-03              0  \n",
            "9  2023-03              0  \n"
          ]
        }
      ]
    },
    {
      "cell_type": "code",
      "source": [
        "# Resumo por unidade e mês\n",
        "resumo = dre_totais.groupby(['MesRef', 'CodigoUnidade'])['Valor'].sum().reset_index()\n",
        "\n",
        "# Ordenar por mês e código da unidade\n",
        "resumo = resumo.sort_values(by=['MesRef', 'CodigoUnidade'])\n",
        "\n",
        "print(resumo)\n"
      ],
      "metadata": {
        "colab": {
          "base_uri": "https://localhost:8080/"
        },
        "id": "m8Fbu4xknTWx",
        "outputId": "fd3e1f53-926c-461a-df9c-0b5fdcf5454a"
      },
      "execution_count": 37,
      "outputs": [
        {
          "output_type": "stream",
          "name": "stdout",
          "text": [
            "     MesRef  CodigoUnidade       Valor\n",
            "0   2023-03              0  3947137.85\n",
            "1   2023-03          11111   112810.42\n",
            "2   2023-03          11113   155887.64\n",
            "3   2023-03          11116   332136.35\n",
            "4   2023-03          11117  2226781.78\n",
            "5   2023-04              0  6172323.18\n",
            "6   2023-04          11111    56192.97\n",
            "7   2023-04          11113   166398.78\n",
            "8   2023-04          11116   391750.26\n",
            "9   2023-04          11117  4215583.87\n",
            "10  2023-05              0  9374836.62\n",
            "11  2023-05          11111   214219.36\n",
            "12  2023-05          11113   237780.94\n",
            "13  2023-05          11116   577093.88\n",
            "14  2023-05          11117  4917300.32\n",
            "15  2023-06              0  5693319.49\n",
            "16  2023-06          11111   113075.62\n",
            "17  2023-06          11113   116338.98\n",
            "18  2023-06          11116   410965.09\n",
            "19  2023-06          11117  2969704.88\n"
          ]
        }
      ]
    },
    {
      "cell_type": "code",
      "source": [
        "# Corrigir código do escritório\n",
        "dre_totais.loc[dre_totais['CodigoUnidade'] == 0, 'CodigoUnidade'] = 9999111\n",
        "\n",
        "# Validar unidades faltantes\n",
        "unidades_faltantes = set([11112, 11114, 11115]) - set(dre_totais['CodigoUnidade'].unique())\n",
        "print(\"Unidades faltantes:\", unidades_faltantes)\n",
        "\n",
        "# Consolidar novamente após correção\n",
        "resumo_corrigido = dre_totais.groupby(['MesRef', 'CodigoUnidade'])['Valor'].sum().reset_index()\n",
        "print(resumo_corrigido)\n"
      ],
      "metadata": {
        "colab": {
          "base_uri": "https://localhost:8080/"
        },
        "id": "hf_SzzEdng17",
        "outputId": "e545d203-a916-4764-a544-8146e603ee64"
      },
      "execution_count": 38,
      "outputs": [
        {
          "output_type": "stream",
          "name": "stdout",
          "text": [
            "Unidades faltantes: {11112, 11114, 11115}\n",
            "     MesRef  CodigoUnidade       Valor\n",
            "0   2023-03          11111   112810.42\n",
            "1   2023-03          11113   155887.64\n",
            "2   2023-03          11116   332136.35\n",
            "3   2023-03          11117  2226781.78\n",
            "4   2023-03        9999111  3947137.85\n",
            "5   2023-04          11111    56192.97\n",
            "6   2023-04          11113   166398.78\n",
            "7   2023-04          11116   391750.26\n",
            "8   2023-04          11117  4215583.87\n",
            "9   2023-04        9999111  6172323.18\n",
            "10  2023-05          11111   214219.36\n",
            "11  2023-05          11113   237780.94\n",
            "12  2023-05          11116   577093.88\n",
            "13  2023-05          11117  4917300.32\n",
            "14  2023-05        9999111  9374836.62\n",
            "15  2023-06          11111   113075.62\n",
            "16  2023-06          11113   116338.98\n",
            "17  2023-06          11116   410965.09\n",
            "18  2023-06          11117  2969704.88\n",
            "19  2023-06        9999111  5693319.49\n"
          ]
        }
      ]
    },
    {
      "cell_type": "code",
      "source": [
        "# Verificar colunas das planilhas DRE originais\n",
        "print(\"Colunas Maio 2023:\", dre_maio.columns)\n",
        "print(\"Colunas Junho 2023:\", dre_junho.columns)\n",
        "\n",
        "# Inspecionar dados por unidade\n",
        "unidades_dre = pd.concat([dre_maio, dre_junho], axis=1)\n",
        "print(unidades_dre.head())\n"
      ],
      "metadata": {
        "colab": {
          "base_uri": "https://localhost:8080/"
        },
        "id": "XC0vMUVNn2hE",
        "outputId": "c0637e5c-b2a9-4f6d-fbde-a213856a4367"
      },
      "execution_count": 39,
      "outputs": [
        {
          "output_type": "stream",
          "name": "stdout",
          "text": [
            "Colunas Maio 2023: Index(['Nome', '9999111 - ESCRITÓRIO', 'Unidade 1 - 11111',\n",
            "       'Unidade 2 - 11112 - Atacado', 'Unidade 3 - 11113',\n",
            "       'Unidade 4 - 11114 - Atacado', 'Unidade 5 - 11115 - Atacado',\n",
            "       'Unidade 6 - 11116', 'Unidade 7 - 11117', 'Total'],\n",
            "      dtype='object')\n",
            "Colunas Junho 2023: Index(['Nome', '9999111 - ESCRITÓRIO', 'Unidade 1 - 11111',\n",
            "       'Unidade 2 - 11112 - Atacado', 'Unidade 3 - 11113',\n",
            "       'Unidade 4 - 11114 - Atacado', 'Unidade 5 - 11115 - Atacado',\n",
            "       'Unidade 6 - 11116', 'Unidade 7 - 11117', 'Total'],\n",
            "      dtype='object')\n",
            "                                        Nome  9999111 - ESCRITÓRIO  \\\n",
            "0              1 - Receita Operacional Bruta                   0.0   \n",
            "1                1.1 - Vendas de mercadorias                   0.0   \n",
            "2                1.2 - Prestação de Serviços                   0.0   \n",
            "3  2 - Deduções da Receita Operacional Bruta                   0.0   \n",
            "4     2.1 - Impostos Incidentes sobre Vendas                   0.0   \n",
            "\n",
            "   Unidade 1 - 11111  Unidade 2 - 11112 - Atacado  Unidade 3 - 11113  \\\n",
            "0           85027.69                    192090.14           96097.13   \n",
            "1           85027.69                    192090.14           96097.13   \n",
            "2               0.00                         0.00               0.00   \n",
            "3             -92.13                      -106.26            -251.64   \n",
            "4             -92.13                      -106.26            -251.64   \n",
            "\n",
            "   Unidade 4 - 11114 - Atacado  Unidade 5 - 11115 - Atacado  \\\n",
            "0                    231129.26                    449435.86   \n",
            "1                    231129.26                    449435.86   \n",
            "2                         0.00                         0.00   \n",
            "3                      -320.52                       -52.20   \n",
            "4                      -320.52                       -52.20   \n",
            "\n",
            "   Unidade 6 - 11116  Unidade 7 - 11117       Total  \\\n",
            "0          155409.29         1926324.47  3135513.84   \n",
            "1          155409.29         1926324.47  3135513.84   \n",
            "2               0.00               0.00        0.00   \n",
            "3            -103.47            -938.92    -1865.14   \n",
            "4            -103.47            -938.92    -1865.14   \n",
            "\n",
            "                                        Nome  9999111 - ESCRITÓRIO  \\\n",
            "0              1 - Receita Operacional Bruta                   0.0   \n",
            "1                1.1 - Vendas de mercadorias                   0.0   \n",
            "2                1.2 - Prestação de Serviços                   0.0   \n",
            "3  2 - Deduções da Receita Operacional Bruta                   0.0   \n",
            "4     2.1 - Impostos Incidentes sobre Vendas                   0.0   \n",
            "\n",
            "   Unidade 1 - 11111  Unidade 2 - 11112 - Atacado  Unidade 3 - 11113  \\\n",
            "0           63309.12                    172339.14           56639.69   \n",
            "1           63309.12                    172339.14           56639.69   \n",
            "2               0.00                         0.00               0.00   \n",
            "3             -90.65                      -104.57            -106.18   \n",
            "4             -90.65                      -104.57            -106.18   \n",
            "\n",
            "   Unidade 4 - 11114 - Atacado  Unidade 5 - 11115 - Atacado  \\\n",
            "0                    207178.66                    333403.66   \n",
            "1                    207178.66                    333403.66   \n",
            "2                         0.00                         0.00   \n",
            "3                      -106.25                      -224.65   \n",
            "4                      -106.25                      -224.65   \n",
            "\n",
            "   Unidade 6 - 11116  Unidade 7 - 11117       Total  \n",
            "0          122479.65         1442551.68  2397901.60  \n",
            "1          122479.65         1442551.68  2397901.60  \n",
            "2               0.00               0.00        0.00  \n",
            "3            -145.96            -703.05    -1481.31  \n",
            "4            -145.96            -703.05    -1481.31  \n"
          ]
        }
      ]
    },
    {
      "cell_type": "code",
      "source": [
        "# Atualizar os códigos das unidades com base no nome\n",
        "dre_totais['CodigoUnidade'] = dre_totais['Unidade'].replace({\n",
        "    '9999111 - ESCRITÓRIO': 9999111,\n",
        "    'Unidade 1 - 11111': 11111,\n",
        "    'Unidade 2 - 11112 - Atacado': 11112,\n",
        "    'Unidade 3 - 11113': 11113,\n",
        "    'Unidade 4 - 11114 - Atacado': 11114,\n",
        "    'Unidade 5 - 11115 - Atacado': 11115,\n",
        "    'Unidade 6 - 11116': 11116,\n",
        "    'Unidade 7 - 11117': 11117\n",
        "})\n",
        "\n",
        "# Revalidar os códigos faltantes\n",
        "faltantes_pos_correcao = set(dim_unidade['CodigoUnidade']).difference(set(dre_totais['CodigoUnidade']))\n",
        "print(\"Códigos faltantes após correção:\", faltantes_pos_correcao)\n",
        "\n",
        "# Consolidar valores por unidade e mês\n",
        "dre_final = dre_totais.groupby(['MesRef', 'CodigoUnidade'])['Valor'].sum().reset_index()\n",
        "\n",
        "# Visualizar resultado\n",
        "print(dre_final)\n"
      ],
      "metadata": {
        "colab": {
          "base_uri": "https://localhost:8080/"
        },
        "id": "BSgsAdozoD8q",
        "outputId": "94bd2e56-8092-4c31-e440-11c58931a9ab"
      },
      "execution_count": 40,
      "outputs": [
        {
          "output_type": "stream",
          "name": "stdout",
          "text": [
            "Códigos faltantes após correção: set()\n",
            "     MesRef CodigoUnidade       Valor\n",
            "0   2023-03         11111   112810.42\n",
            "1   2023-03         11112   213370.82\n",
            "2   2023-03         11113   155887.64\n",
            "3   2023-03         11114   394982.71\n",
            "4   2023-03         11115   850746.17\n",
            "5   2023-03         11116   332136.35\n",
            "6   2023-03         11117  2226781.78\n",
            "7   2023-03       9999111  -899338.87\n",
            "8   2023-03         Total  3387377.02\n",
            "9   2023-04         11111    56192.97\n",
            "10  2023-04         11112   401397.39\n",
            "11  2023-04         11113   166398.78\n",
            "12  2023-04         11114   468650.09\n",
            "13  2023-04         11115   567428.96\n",
            "14  2023-04         11116   391750.26\n",
            "15  2023-04         11117  4215583.87\n",
            "16  2023-04       9999111  -766277.79\n",
            "17  2023-04         Total  5501124.53\n",
            "18  2023-05         11111   214219.36\n",
            "19  2023-05         11112   440936.73\n",
            "20  2023-05         11113   237780.94\n",
            "21  2023-05         11114   613784.72\n",
            "22  2023-05         11115  1585125.83\n",
            "23  2023-05         11116   577093.88\n",
            "24  2023-05         11117  4917300.32\n",
            "25  2023-05       9999111  -925626.22\n",
            "26  2023-05         Total  7660615.56\n",
            "27  2023-06         11111   113075.62\n",
            "28  2023-06         11112   389870.20\n",
            "29  2023-06         11113   116338.98\n",
            "30  2023-06         11114   480071.08\n",
            "31  2023-06         11115  1045999.01\n",
            "32  2023-06         11116   410965.09\n",
            "33  2023-06         11117  2969704.88\n",
            "34  2023-06       9999111  -874322.83\n",
            "35  2023-06         Total  4651702.03\n"
          ]
        }
      ]
    },
    {
      "cell_type": "code",
      "source": [
        "# Renomear 'IdUnidade' para 'CodigoUnidade' no fato_dre_final\n",
        "fato_dre_final.rename(columns={'IdUnidade': 'CodigoUnidade'}, inplace=True)\n",
        "\n",
        "# Verificar as colunas novamente\n",
        "print(\"Colunas corrigidas no fato_dre_final:\")\n",
        "print(fato_dre_final.columns)\n"
      ],
      "metadata": {
        "colab": {
          "base_uri": "https://localhost:8080/"
        },
        "id": "-Y3ZPmsmoQ0U",
        "outputId": "84104fda-3ef9-4bd4-e2f9-b5b9666a8e49"
      },
      "execution_count": 43,
      "outputs": [
        {
          "output_type": "stream",
          "name": "stdout",
          "text": [
            "Colunas corrigidas no fato_dre_final:\n",
            "Index(['IdEstrutura', 'CodigoUnidade', 'MesRef', 'Valor'], dtype='object')\n"
          ]
        }
      ]
    },
    {
      "cell_type": "code",
      "source": [
        "# Comparar os valores do DRE com os do banco\n",
        "comparacao = pd.merge(\n",
        "    dre_final,\n",
        "    fato_dre_final,\n",
        "    on=['MesRef', 'CodigoUnidade'],\n",
        "    how='outer',\n",
        "    suffixes=('_dre', '_banco')\n",
        ")\n",
        "\n",
        "# Calcular diferenças\n",
        "comparacao['Diferenca'] = comparacao['Valor_dre'] - comparacao['Valor_banco']\n",
        "comparacao['Diferenca_Abs'] = comparacao['Diferenca'].abs()\n",
        "\n",
        "# Exibir resultados ordenados\n",
        "print(comparacao.sort_values(by=['MesRef', 'CodigoUnidade']))\n"
      ],
      "metadata": {
        "colab": {
          "base_uri": "https://localhost:8080/"
        },
        "id": "OR39m9aCorcd",
        "outputId": "314e842f-4389-4963-fa08-8e373fcc72c5"
      },
      "execution_count": 44,
      "outputs": [
        {
          "output_type": "stream",
          "name": "stdout",
          "text": [
            "        MesRef CodigoUnidade   Valor_dre  IdEstrutura  Valor_banco  Diferenca  \\\n",
            "0      2023-03         11111   112810.42          1.0     63205.51   49604.91   \n",
            "1      2023-03         11111   112810.42          2.0     63205.51   49604.91   \n",
            "2      2023-03         11111   112810.42          3.0         0.00  112810.42   \n",
            "3      2023-03         11111   112810.42          4.0       -84.48  112894.90   \n",
            "4      2023-03         11111   112810.42          5.0       -84.48  112894.90   \n",
            "...        ...           ...         ...          ...          ...        ...   \n",
            "37919  2023-06       9999111  -874322.83        162.0   -108316.28 -766006.55   \n",
            "37920  2023-06       9999111  -874322.83        163.0   -108316.28 -766006.55   \n",
            "37921  2023-06       9999111  -874322.83        162.0   -108316.28 -766006.55   \n",
            "37922  2023-06       9999111  -874322.83        163.0   -108316.28 -766006.55   \n",
            "37923  2023-06         Total  4651702.03          NaN          NaN        NaN   \n",
            "\n",
            "       Diferenca_Abs  \n",
            "0           49604.91  \n",
            "1           49604.91  \n",
            "2          112810.42  \n",
            "3          112894.90  \n",
            "4          112894.90  \n",
            "...              ...  \n",
            "37919      766006.55  \n",
            "37920      766006.55  \n",
            "37921      766006.55  \n",
            "37922      766006.55  \n",
            "37923            NaN  \n",
            "\n",
            "[37924 rows x 7 columns]\n"
          ]
        }
      ]
    },
    {
      "cell_type": "code",
      "source": [
        "# Consolidar valores no banco\n",
        "fato_consolidado = fato_dre_final.groupby(['MesRef', 'CodigoUnidade'])['Valor'].sum().reset_index()\n",
        "\n",
        "# Renomear coluna para facilitar comparação\n",
        "fato_consolidado.rename(columns={'Valor': 'Valor_banco'}, inplace=True)\n",
        "\n",
        "# Verificar resultado\n",
        "print(fato_consolidado.head())\n"
      ],
      "metadata": {
        "colab": {
          "base_uri": "https://localhost:8080/"
        },
        "id": "MlyKEN5DpA6u",
        "outputId": "6a54ec34-e917-4edd-bfec-bb4652095834"
      },
      "execution_count": 45,
      "outputs": [
        {
          "output_type": "stream",
          "name": "stdout",
          "text": [
            "    MesRef  CodigoUnidade  Valor_banco\n",
            "0  2023-03          11111  -1648059.02\n",
            "1  2023-03          11112   4788390.50\n",
            "2  2023-03          11113   9202675.61\n",
            "3  2023-03          11114  17572359.85\n",
            "4  2023-03          11115  49717819.37\n"
          ]
        }
      ]
    },
    {
      "cell_type": "code",
      "source": [
        "# Atualizar a comparação com valores consolidados\n",
        "comparacao = pd.merge(\n",
        "    dre_final,\n",
        "    fato_consolidado,\n",
        "    on=['MesRef', 'CodigoUnidade'],\n",
        "    how='outer'\n",
        ")\n",
        "\n",
        "# Calcular diferenças\n",
        "comparacao['Diferenca'] = comparacao['Valor'] - comparacao['Valor_banco']\n",
        "comparacao['Diferenca_Abs'] = comparacao['Diferenca'].abs()\n",
        "\n",
        "# Exibir resultado ordenado\n",
        "print(comparacao.sort_values(by=['MesRef', 'CodigoUnidade']))\n"
      ],
      "metadata": {
        "colab": {
          "base_uri": "https://localhost:8080/"
        },
        "id": "6CkgKAabpDzw",
        "outputId": "a809e00f-1db9-4551-95ae-faed34692187"
      },
      "execution_count": 46,
      "outputs": [
        {
          "output_type": "stream",
          "name": "stdout",
          "text": [
            "     MesRef CodigoUnidade       Valor   Valor_banco     Diferenca  \\\n",
            "0   2023-03         11111   112810.42 -1.648059e+06  1.760869e+06   \n",
            "1   2023-03         11112   213370.82  4.788390e+06 -4.575020e+06   \n",
            "2   2023-03         11113   155887.64  9.202676e+06 -9.046788e+06   \n",
            "3   2023-03         11114   394982.71  1.757236e+07 -1.717738e+07   \n",
            "4   2023-03         11115   850746.17  4.971782e+07 -4.886707e+07   \n",
            "5   2023-03         11116   332136.35  2.192998e+07 -2.159784e+07   \n",
            "6   2023-03         11117  2226781.78 -2.268858e+08  2.291126e+08   \n",
            "7   2023-03       9999111  -899338.87 -1.155220e+08  1.146226e+08   \n",
            "8   2023-03         Total  3387377.02           NaN           NaN   \n",
            "9   2023-04         11111    56192.97 -5.487106e+06  5.543299e+06   \n",
            "10  2023-04         11112   401397.39  2.116401e+07 -2.076261e+07   \n",
            "11  2023-04         11113   166398.78  1.038250e+07 -1.021610e+07   \n",
            "12  2023-04         11114   468650.09  2.727361e+07 -2.680496e+07   \n",
            "13  2023-04         11115   567428.96  1.946394e+07 -1.889651e+07   \n",
            "14  2023-04         11116   391750.26  2.588737e+07 -2.549562e+07   \n",
            "15  2023-04         11117  4215583.87  2.657796e+08 -2.615640e+08   \n",
            "16  2023-04       9999111  -766277.79 -9.888086e+07  9.811458e+07   \n",
            "17  2023-04         Total  5501124.53           NaN           NaN   \n",
            "18  2023-05         11111   214219.36  7.699562e+06 -7.485342e+06   \n",
            "19  2023-05         11112   440936.73  2.137622e+07 -2.093529e+07   \n",
            "20  2023-05         11113   237780.94  1.323329e+07 -1.299551e+07   \n",
            "21  2023-05         11114   613784.72  3.593594e+07 -3.532215e+07   \n",
            "22  2023-05         11115  1585125.83  1.141653e+08 -1.125802e+08   \n",
            "23  2023-05         11116   577093.88  4.424451e+07 -4.366742e+07   \n",
            "24  2023-05         11117  4917300.32  2.833112e+08 -2.783939e+08   \n",
            "25  2023-05       9999111  -925626.22 -1.184885e+08  1.175629e+08   \n",
            "26  2023-05         Total  7660615.56           NaN           NaN   \n",
            "27  2023-06         11111   113075.62 -2.367464e+06  2.480540e+06   \n",
            "28  2023-06         11112   389870.20  1.832001e+07 -1.793014e+07   \n",
            "29  2023-06         11113   116338.98  5.189764e+06 -5.073425e+06   \n",
            "30  2023-06         11114   480071.08  2.342249e+07 -2.294242e+07   \n",
            "31  2023-06         11115  1045999.01  6.469984e+07 -6.365384e+07   \n",
            "32  2023-06         11116   410965.09  2.949858e+07 -2.908761e+07   \n",
            "33  2023-06         11117  2969704.88  1.116601e+08 -1.086904e+08   \n",
            "34  2023-06       9999111  -874322.83 -1.116819e+08  1.108076e+08   \n",
            "35  2023-06         Total  4651702.03           NaN           NaN   \n",
            "\n",
            "    Diferenca_Abs  \n",
            "0    1.760869e+06  \n",
            "1    4.575020e+06  \n",
            "2    9.046788e+06  \n",
            "3    1.717738e+07  \n",
            "4    4.886707e+07  \n",
            "5    2.159784e+07  \n",
            "6    2.291126e+08  \n",
            "7    1.146226e+08  \n",
            "8             NaN  \n",
            "9    5.543299e+06  \n",
            "10   2.076261e+07  \n",
            "11   1.021610e+07  \n",
            "12   2.680496e+07  \n",
            "13   1.889651e+07  \n",
            "14   2.549562e+07  \n",
            "15   2.615640e+08  \n",
            "16   9.811458e+07  \n",
            "17            NaN  \n",
            "18   7.485342e+06  \n",
            "19   2.093529e+07  \n",
            "20   1.299551e+07  \n",
            "21   3.532215e+07  \n",
            "22   1.125802e+08  \n",
            "23   4.366742e+07  \n",
            "24   2.783939e+08  \n",
            "25   1.175629e+08  \n",
            "26            NaN  \n",
            "27   2.480540e+06  \n",
            "28   1.793014e+07  \n",
            "29   5.073425e+06  \n",
            "30   2.294242e+07  \n",
            "31   6.365384e+07  \n",
            "32   2.908761e+07  \n",
            "33   1.086904e+08  \n",
            "34   1.108076e+08  \n",
            "35            NaN  \n"
          ]
        }
      ]
    },
    {
      "cell_type": "code",
      "source": [
        "# Verificar duplicatas no banco com colunas corretas\n",
        "duplicatas_banco = fato_dre_final[fato_dre_final.duplicated(\n",
        "    subset=['MesRef', 'CodigoUnidade', 'IdEstrutura'],\n",
        "    keep=False\n",
        ")]\n",
        "\n",
        "# Exibir duplicatas, se existirem\n",
        "print(\"Duplicatas no banco:\")\n",
        "print(duplicatas_banco)\n"
      ],
      "metadata": {
        "colab": {
          "base_uri": "https://localhost:8080/"
        },
        "id": "l8prCuBHpzRu",
        "outputId": "c7c09e89-04c1-4028-c554-bb01d3238ada"
      },
      "execution_count": 51,
      "outputs": [
        {
          "output_type": "stream",
          "name": "stdout",
          "text": [
            "Duplicatas no banco:\n",
            "       IdEstrutura  CodigoUnidade   MesRef      Valor\n",
            "1288           162        9999111  2023-03 -112045.58\n",
            "1289           163        9999111  2023-03 -112045.58\n",
            "1290           162        9999111  2023-03 -112045.58\n",
            "1291           163        9999111  2023-03 -112045.58\n",
            "1292           162        9999111  2023-03 -112045.58\n",
            "...            ...            ...      ...        ...\n",
            "37915          163          11117  2023-06  106246.75\n",
            "37916          162          11117  2023-06  106246.75\n",
            "37917          163          11117  2023-06  106246.75\n",
            "37918          162          11117  2023-06  106246.75\n",
            "37919          163          11117  2023-06  106246.75\n",
            "\n",
            "[32768 rows x 4 columns]\n"
          ]
        }
      ]
    },
    {
      "cell_type": "code",
      "source": [
        "fato_dre_final = fato_dre_final.drop_duplicates(\n",
        "    subset=['MesRef', 'CodigoUnidade', 'IdEstrutura'],\n",
        "    keep='first'\n",
        ")\n"
      ],
      "metadata": {
        "id": "KlKZHX0SqlX1"
      },
      "execution_count": 52,
      "outputs": []
    },
    {
      "cell_type": "code",
      "source": [
        "duplicatas_banco = fato_dre_final[fato_dre_final.duplicated(\n",
        "    subset=['MesRef', 'CodigoUnidade', 'IdEstrutura'],\n",
        "    keep=False\n",
        ")]\n",
        "\n",
        "print(\"Duplicatas após limpeza:\")\n",
        "print(duplicatas_banco)\n"
      ],
      "metadata": {
        "colab": {
          "base_uri": "https://localhost:8080/"
        },
        "id": "ppUKP-K6qnu_",
        "outputId": "9b158008-d5fe-4bcd-88cb-1c7b4927ce61"
      },
      "execution_count": 53,
      "outputs": [
        {
          "output_type": "stream",
          "name": "stdout",
          "text": [
            "Duplicatas após limpeza:\n",
            "Empty DataFrame\n",
            "Columns: [IdEstrutura, CodigoUnidade, MesRef, Valor]\n",
            "Index: []\n"
          ]
        }
      ]
    },
    {
      "cell_type": "code",
      "source": [
        "# Recalcular as diferenças após limpeza\n",
        "comparacao = pd.merge(\n",
        "    dre_final,\n",
        "    fato_dre_final,\n",
        "    on=['MesRef', 'CodigoUnidade'],\n",
        "    suffixes=('_dre', '_banco')\n",
        ")\n",
        "\n",
        "comparacao['Diferenca'] = comparacao['Valor_dre'] - comparacao['Valor_banco']\n",
        "comparacao['Diferenca_Abs'] = comparacao['Diferenca'].abs()\n",
        "\n",
        "# Mostrar resultados\n",
        "print(comparacao)\n"
      ],
      "metadata": {
        "colab": {
          "base_uri": "https://localhost:8080/"
        },
        "id": "xscnTquTqzbm",
        "outputId": "67b3765c-386d-48c1-eec2-2cb14eeb4dd3"
      },
      "execution_count": 54,
      "outputs": [
        {
          "output_type": "stream",
          "name": "stdout",
          "text": [
            "       MesRef CodigoUnidade  Valor_dre  IdEstrutura  Valor_banco  Diferenca  \\\n",
            "0     2023-03         11111  112810.42            1     63205.51   49604.91   \n",
            "1     2023-03         11111  112810.42            2     63205.51   49604.91   \n",
            "2     2023-03         11111  112810.42            3         0.00  112810.42   \n",
            "3     2023-03         11111  112810.42            4       -84.48  112894.90   \n",
            "4     2023-03         11111  112810.42            5       -84.48  112894.90   \n",
            "...       ...           ...        ...          ...          ...        ...   \n",
            "5211  2023-06       9999111 -874322.83          159   -100107.53 -774215.30   \n",
            "5212  2023-06       9999111 -874322.83          160     -8208.75 -866114.08   \n",
            "5213  2023-06       9999111 -874322.83          161     -8208.75 -866114.08   \n",
            "5214  2023-06       9999111 -874322.83          162   -108316.28 -766006.55   \n",
            "5215  2023-06       9999111 -874322.83          163   -108316.28 -766006.55   \n",
            "\n",
            "      Diferenca_Abs  \n",
            "0          49604.91  \n",
            "1          49604.91  \n",
            "2         112810.42  \n",
            "3         112894.90  \n",
            "4         112894.90  \n",
            "...             ...  \n",
            "5211      774215.30  \n",
            "5212      866114.08  \n",
            "5213      866114.08  \n",
            "5214      766006.55  \n",
            "5215      766006.55  \n",
            "\n",
            "[5216 rows x 7 columns]\n"
          ]
        }
      ]
    },
    {
      "cell_type": "code",
      "source": [
        "# Consolidar valores no banco\n",
        "banco_agrupado = fato_dre_final.groupby(['MesRef', 'CodigoUnidade'])['Valor'].sum().reset_index()\n",
        "banco_agrupado.rename(columns={'Valor': 'Valor_banco'}, inplace=True)\n",
        "\n",
        "# Recalcular comparação após consolidação\n",
        "comparacao_final = pd.merge(\n",
        "    dre_final,\n",
        "    banco_agrupado,\n",
        "    on=['MesRef', 'CodigoUnidade'],\n",
        "    how='left'\n",
        ")\n",
        "\n",
        "comparacao_final['Diferenca'] = comparacao_final['Valor'] - comparacao_final['Valor_banco']\n",
        "comparacao_final['Diferenca_Abs'] = comparacao_final['Diferenca'].abs()\n",
        "\n",
        "# Mostrar resultados\n",
        "print(comparacao_final)\n"
      ],
      "metadata": {
        "colab": {
          "base_uri": "https://localhost:8080/"
        },
        "id": "2yMmb3aVq_5u",
        "outputId": "f3870818-9491-43e6-cb39-1323f09fd661"
      },
      "execution_count": 55,
      "outputs": [
        {
          "output_type": "stream",
          "name": "stdout",
          "text": [
            "     MesRef CodigoUnidade       Valor  Valor_banco  Diferenca  Diferenca_Abs\n",
            "0   2023-03         11111   112810.42    111089.14    1721.28        1721.28\n",
            "1   2023-03         11112   213370.82    217842.98   -4472.16        4472.16\n",
            "2   2023-03         11113   155887.64    164731.03   -8843.39        8843.39\n",
            "3   2023-03         11114   394982.71    411773.89  -16791.18       16791.18\n",
            "4   2023-03         11115   850746.17    898514.57  -47768.40       47768.40\n",
            "5   2023-03         11116   332136.35    353248.61  -21112.26       21112.26\n",
            "6   2023-03         11117  2226781.78   2002820.33  223961.45      223961.45\n",
            "7   2023-03       9999111  -899338.87  -1011384.45  112045.58      112045.58\n",
            "8   2023-03         Total  3387377.02          NaN        NaN            NaN\n",
            "9   2023-04         11111    56192.97     50774.30    5418.67        5418.67\n",
            "10  2023-04         11112   401397.39    421693.20  -20295.81       20295.81\n",
            "11  2023-04         11113   166398.78    176385.19   -9986.41        9986.41\n",
            "12  2023-04         11114   468650.09    494852.40  -26202.31       26202.31\n",
            "13  2023-04         11115   567428.96    585900.62  -18471.66       18471.66\n",
            "14  2023-04         11116   391750.26    416672.66  -24922.40       24922.40\n",
            "15  2023-04         11117  4215583.87   4471267.17 -255683.30      255683.30\n",
            "16  2023-04       9999111  -766277.79   -862186.47   95908.68       95908.68\n",
            "17  2023-04         Total  5501124.53          NaN        NaN            NaN\n",
            "18  2023-05         11111   214219.36    221536.41   -7317.05        7317.05\n",
            "19  2023-05         11112   440936.73    461401.33  -20464.60       20464.60\n",
            "20  2023-05         11113   237780.94    250484.27  -12703.33       12703.33\n",
            "21  2023-05         11114   613784.72    648312.73  -34528.01       34528.01\n",
            "22  2023-05         11115  1585125.83   1695174.88 -110049.05      110049.05\n",
            "23  2023-05         11116   577093.88    619779.53  -42685.65       42685.65\n",
            "24  2023-05         11117  4917300.32   5189435.15 -272134.83      272134.83\n",
            "25  2023-05       9999111  -925626.22  -1040545.92  114919.70      114919.70\n",
            "26  2023-05         Total  7660615.56          NaN        NaN            NaN\n",
            "27  2023-06         11111   113075.62    110650.85    2424.77        2424.77\n",
            "28  2023-06         11112   389870.20    407397.22  -17527.02       17527.02\n",
            "29  2023-06         11113   116338.98    121298.34   -4959.36        4959.36\n",
            "30  2023-06         11114   480071.08    502497.69  -22426.61       22426.61\n",
            "31  2023-06         11115  1045999.01   1108221.73  -62222.72       62222.72\n",
            "32  2023-06         11116   410965.09    439398.73  -28433.64       28433.64\n",
            "33  2023-06         11117  2969704.88   3075951.63 -106246.75      106246.75\n",
            "34  2023-06       9999111  -874322.83   -982639.11  108316.28      108316.28\n",
            "35  2023-06         Total  4651702.03          NaN        NaN            NaN\n"
          ]
        }
      ]
    },
    {
      "cell_type": "code",
      "source": [
        "import sqlite3\n",
        "import pandas as pd\n",
        "\n",
        "# Conectar ao banco SQLite\n",
        "conn = sqlite3.connect('dre_tratado_final.db')\n",
        "\n",
        "# Salvar as tabelas no banco\n",
        "fato_dre_final.to_sql('fato_dre_final', conn, if_exists='replace', index=False)\n",
        "dim_unidade.to_sql('dim_unidade', conn, if_exists='replace', index=False)\n",
        "dim_estrutura.to_sql('dim_estrutura', conn, if_exists='replace', index=False)\n",
        "\n",
        "# Fechar conexão\n",
        "conn.close()\n",
        "\n",
        "# Disponibilizar o arquivo para download\n",
        "from google.colab import files\n",
        "files.download('dre_tratado_final.db')\n"
      ],
      "metadata": {
        "colab": {
          "base_uri": "https://localhost:8080/",
          "height": 17
        },
        "id": "dcf_GuVytRsF",
        "outputId": "f60d67a8-0b3e-4e45-dc5b-383e3eee7894"
      },
      "execution_count": 56,
      "outputs": [
        {
          "output_type": "display_data",
          "data": {
            "text/plain": [
              "<IPython.core.display.Javascript object>"
            ],
            "application/javascript": [
              "\n",
              "    async function download(id, filename, size) {\n",
              "      if (!google.colab.kernel.accessAllowed) {\n",
              "        return;\n",
              "      }\n",
              "      const div = document.createElement('div');\n",
              "      const label = document.createElement('label');\n",
              "      label.textContent = `Downloading \"${filename}\": `;\n",
              "      div.appendChild(label);\n",
              "      const progress = document.createElement('progress');\n",
              "      progress.max = size;\n",
              "      div.appendChild(progress);\n",
              "      document.body.appendChild(div);\n",
              "\n",
              "      const buffers = [];\n",
              "      let downloaded = 0;\n",
              "\n",
              "      const channel = await google.colab.kernel.comms.open(id);\n",
              "      // Send a message to notify the kernel that we're ready.\n",
              "      channel.send({})\n",
              "\n",
              "      for await (const message of channel.messages) {\n",
              "        // Send a message to notify the kernel that we're ready.\n",
              "        channel.send({})\n",
              "        if (message.buffers) {\n",
              "          for (const buffer of message.buffers) {\n",
              "            buffers.push(buffer);\n",
              "            downloaded += buffer.byteLength;\n",
              "            progress.value = downloaded;\n",
              "          }\n",
              "        }\n",
              "      }\n",
              "      const blob = new Blob(buffers, {type: 'application/binary'});\n",
              "      const a = document.createElement('a');\n",
              "      a.href = window.URL.createObjectURL(blob);\n",
              "      a.download = filename;\n",
              "      div.appendChild(a);\n",
              "      a.click();\n",
              "      div.remove();\n",
              "    }\n",
              "  "
            ]
          },
          "metadata": {}
        },
        {
          "output_type": "display_data",
          "data": {
            "text/plain": [
              "<IPython.core.display.Javascript object>"
            ],
            "application/javascript": [
              "download(\"download_c9949114-d1de-4ed8-b863-55af5b72db3d\", \"dre_tratado_final.db\", 180224)"
            ]
          },
          "metadata": {}
        }
      ]
    }
  ]
}